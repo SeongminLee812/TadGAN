{
 "cells": [
  {
   "cell_type": "markdown",
   "id": "0fd0e461",
   "metadata": {},
   "source": [
    "# predict.py"
   ]
  },
  {
   "cell_type": "code",
   "execution_count": 21,
   "id": "8999be05",
   "metadata": {},
   "outputs": [],
   "source": [
    "import pandas as pd\n",
    "import joblib\n",
    "\n",
    "class Predict():\n",
    "    median_dict = {'tomato': 8069.44,\n",
    "                  'paprica': 5705.79,\n",
    "                  'strawberry': 1469.57}\n",
    "    \n",
    "    def __init__(self, crop):\n",
    "        self.crop = crop\n",
    "        self.load_model()\n",
    "         \n",
    "        \n",
    "    def load_data(self):\n",
    "        self.data = pd.read_csv(f'{self.crop}_anomaly.csv', index_col=0)\n",
    "        \n",
    "    def load_model(self):\n",
    "        self.model = joblib.load(f'{self.crop}_predict_model.joblib')\n",
    "        self.scaler = joblib.load(f'{self.crop}_scaler.joblib')\n",
    "                                 \n",
    "    def predict(self, value):\n",
    "        pred = self.model.predict(value)    \n",
    "        if pred.ndim == 1:\n",
    "            pred = [pred]\n",
    "            \n",
    "        deviation = self.scaler.inverse_transform(pred)\n",
    "        \n",
    "        return Predict.median_dict[self.crop] + deviation\n",
    "        \n"
   ]
  },
  {
   "cell_type": "code",
   "execution_count": 22,
   "id": "79039551",
   "metadata": {},
   "outputs": [
    {
     "data": {
      "text/plain": [
       "array([[8247.49900615]])"
      ]
     },
     "execution_count": 22,
     "metadata": {},
     "output_type": "execute_result"
    }
   ],
   "source": [
    "tomato = Predict('tomato')\n",
    "tomato.predict([[0, 0, 0, 0]])"
   ]
  },
  {
   "cell_type": "code",
   "execution_count": 23,
   "id": "f1547bdf",
   "metadata": {},
   "outputs": [
    {
     "data": {
      "text/plain": [
       "array([[1420.90770476]])"
      ]
     },
     "execution_count": 23,
     "metadata": {},
     "output_type": "execute_result"
    }
   ],
   "source": [
    "strawberry = Predict('strawberry')\n",
    "strawberry.predict([[0, 0, 0, 0]])"
   ]
  },
  {
   "cell_type": "code",
   "execution_count": 24,
   "id": "58b05d31",
   "metadata": {},
   "outputs": [
    {
     "data": {
      "text/plain": [
       "array([[5705.79]])"
      ]
     },
     "execution_count": 24,
     "metadata": {},
     "output_type": "execute_result"
    }
   ],
   "source": [
    "paprica = Predict('paprica')\n",
    "paprica.predict([[0, 0, 0, 0]])"
   ]
  },
  {
   "cell_type": "code",
   "execution_count": null,
   "id": "dc01e75b",
   "metadata": {},
   "outputs": [],
   "source": []
  }
 ],
 "metadata": {
  "kernelspec": {
   "display_name": "Python 3",
   "language": "python",
   "name": "python3"
  },
  "language_info": {
   "codemirror_mode": {
    "name": "ipython",
    "version": 3
   },
   "file_extension": ".py",
   "mimetype": "text/x-python",
   "name": "python",
   "nbconvert_exporter": "python",
   "pygments_lexer": "ipython3",
   "version": "3.6.9"
  }
 },
 "nbformat": 4,
 "nbformat_minor": 5
}
