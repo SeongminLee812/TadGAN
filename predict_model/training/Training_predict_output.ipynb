{
 "cells": [
  {
   "cell_type": "code",
   "execution_count": 1,
   "id": "4cfa494b",
   "metadata": {},
   "outputs": [],
   "source": [
    "import pandas as pd"
   ]
  },
  {
   "cell_type": "code",
   "execution_count": 2,
   "id": "78879364",
   "metadata": {},
   "outputs": [],
   "source": [
    "tomato = pd.read_csv('tomato_anomaly.csv', index_col=0)\n",
    "strawberry = pd.read_csv('strawberry_anomaly.csv', index_col=0)\n",
    "paprica = pd.read_csv('paprica_anomaly.csv', index_col=0)"
   ]
  },
  {
   "cell_type": "code",
   "execution_count": 3,
   "id": "8b56bbcb",
   "metadata": {
    "collapsed": true
   },
   "outputs": [
    {
     "data": {
      "text/html": [
       "<div>\n",
       "<style scoped>\n",
       "    .dataframe tbody tr th:only-of-type {\n",
       "        vertical-align: middle;\n",
       "    }\n",
       "\n",
       "    .dataframe tbody tr th {\n",
       "        vertical-align: top;\n",
       "    }\n",
       "\n",
       "    .dataframe thead th {\n",
       "        text-align: right;\n",
       "    }\n",
       "</style>\n",
       "<table border=\"1\" class=\"dataframe\">\n",
       "  <thead>\n",
       "    <tr style=\"text-align: right;\">\n",
       "      <th></th>\n",
       "      <th>xco2</th>\n",
       "      <th>xinsunadd</th>\n",
       "      <th>xintemp1</th>\n",
       "      <th>xsthum</th>\n",
       "      <th>yield_output</th>\n",
       "    </tr>\n",
       "  </thead>\n",
       "  <tbody>\n",
       "    <tr>\n",
       "      <th>mysb4_1</th>\n",
       "      <td>1.568226</td>\n",
       "      <td>1.983854</td>\n",
       "      <td>0.331212</td>\n",
       "      <td>1.796899</td>\n",
       "      <td>649.31</td>\n",
       "    </tr>\n",
       "    <tr>\n",
       "      <th>mysb4_2</th>\n",
       "      <td>1.815418</td>\n",
       "      <td>2.229121</td>\n",
       "      <td>0.686742</td>\n",
       "      <td>1.891823</td>\n",
       "      <td>11725.00</td>\n",
       "    </tr>\n",
       "    <tr>\n",
       "      <th>mysb4_3</th>\n",
       "      <td>0.919963</td>\n",
       "      <td>2.384450</td>\n",
       "      <td>0.353057</td>\n",
       "      <td>0.804560</td>\n",
       "      <td>8069.44</td>\n",
       "    </tr>\n",
       "    <tr>\n",
       "      <th>mysb2_2</th>\n",
       "      <td>0.231546</td>\n",
       "      <td>1.975161</td>\n",
       "      <td>0.717848</td>\n",
       "      <td>3.032744</td>\n",
       "      <td>12148.15</td>\n",
       "    </tr>\n",
       "    <tr>\n",
       "      <th>mysb6_2</th>\n",
       "      <td>2.324790</td>\n",
       "      <td>1.861574</td>\n",
       "      <td>0.574999</td>\n",
       "      <td>1.989953</td>\n",
       "      <td>5439.81</td>\n",
       "    </tr>\n",
       "  </tbody>\n",
       "</table>\n",
       "</div>"
      ],
      "text/plain": [
       "             xco2  xinsunadd  xintemp1    xsthum  yield_output\n",
       "mysb4_1  1.568226   1.983854  0.331212  1.796899        649.31\n",
       "mysb4_2  1.815418   2.229121  0.686742  1.891823      11725.00\n",
       "mysb4_3  0.919963   2.384450  0.353057  0.804560       8069.44\n",
       "mysb2_2  0.231546   1.975161  0.717848  3.032744      12148.15\n",
       "mysb6_2  2.324790   1.861574  0.574999  1.989953       5439.81"
      ]
     },
     "execution_count": 3,
     "metadata": {},
     "output_type": "execute_result"
    }
   ],
   "source": [
    "tomato"
   ]
  },
  {
   "cell_type": "code",
   "execution_count": 4,
   "id": "9b0844c6",
   "metadata": {
    "collapsed": true
   },
   "outputs": [
    {
     "data": {
      "text/html": [
       "<div>\n",
       "<style scoped>\n",
       "    .dataframe tbody tr th:only-of-type {\n",
       "        vertical-align: middle;\n",
       "    }\n",
       "\n",
       "    .dataframe tbody tr th {\n",
       "        vertical-align: top;\n",
       "    }\n",
       "\n",
       "    .dataframe thead th {\n",
       "        text-align: right;\n",
       "    }\n",
       "</style>\n",
       "<table border=\"1\" class=\"dataframe\">\n",
       "  <thead>\n",
       "    <tr style=\"text-align: right;\">\n",
       "      <th></th>\n",
       "      <th>xco2</th>\n",
       "      <th>xinsunadd</th>\n",
       "      <th>xintemp1</th>\n",
       "      <th>xsthum</th>\n",
       "      <th>yield_output</th>\n",
       "    </tr>\n",
       "  </thead>\n",
       "  <tbody>\n",
       "    <tr>\n",
       "      <th>mysb6_6</th>\n",
       "      <td>0.296633</td>\n",
       "      <td>3.128465</td>\n",
       "      <td>1.057159</td>\n",
       "      <td>1.392112</td>\n",
       "      <td>1759.67</td>\n",
       "    </tr>\n",
       "    <tr>\n",
       "      <th>mysb6_1</th>\n",
       "      <td>0.000000</td>\n",
       "      <td>0.260533</td>\n",
       "      <td>1.217159</td>\n",
       "      <td>1.610267</td>\n",
       "      <td>1090.28</td>\n",
       "    </tr>\n",
       "    <tr>\n",
       "      <th>mysb4_4</th>\n",
       "      <td>0.258910</td>\n",
       "      <td>1.731777</td>\n",
       "      <td>0.343589</td>\n",
       "      <td>0.785810</td>\n",
       "      <td>1671.79</td>\n",
       "    </tr>\n",
       "    <tr>\n",
       "      <th>mysb6_5</th>\n",
       "      <td>0.033354</td>\n",
       "      <td>2.677468</td>\n",
       "      <td>0.810482</td>\n",
       "      <td>2.041166</td>\n",
       "      <td>1267.36</td>\n",
       "    </tr>\n",
       "  </tbody>\n",
       "</table>\n",
       "</div>"
      ],
      "text/plain": [
       "             xco2  xinsunadd  xintemp1    xsthum  yield_output\n",
       "mysb6_6  0.296633   3.128465  1.057159  1.392112       1759.67\n",
       "mysb6_1  0.000000   0.260533  1.217159  1.610267       1090.28\n",
       "mysb4_4  0.258910   1.731777  0.343589  0.785810       1671.79\n",
       "mysb6_5  0.033354   2.677468  0.810482  2.041166       1267.36"
      ]
     },
     "execution_count": 4,
     "metadata": {},
     "output_type": "execute_result"
    }
   ],
   "source": [
    "strawberry"
   ]
  },
  {
   "cell_type": "code",
   "execution_count": 5,
   "id": "1e44d25b",
   "metadata": {
    "collapsed": true
   },
   "outputs": [
    {
     "data": {
      "text/html": [
       "<div>\n",
       "<style scoped>\n",
       "    .dataframe tbody tr th:only-of-type {\n",
       "        vertical-align: middle;\n",
       "    }\n",
       "\n",
       "    .dataframe tbody tr th {\n",
       "        vertical-align: top;\n",
       "    }\n",
       "\n",
       "    .dataframe thead th {\n",
       "        text-align: right;\n",
       "    }\n",
       "</style>\n",
       "<table border=\"1\" class=\"dataframe\">\n",
       "  <thead>\n",
       "    <tr style=\"text-align: right;\">\n",
       "      <th></th>\n",
       "      <th>xco2</th>\n",
       "      <th>xinsunadd</th>\n",
       "      <th>xintemp1</th>\n",
       "      <th>xsthum</th>\n",
       "      <th>yield_output</th>\n",
       "    </tr>\n",
       "  </thead>\n",
       "  <tbody>\n",
       "    <tr>\n",
       "      <th>mysb2_1</th>\n",
       "      <td>0.285799</td>\n",
       "      <td>1.947975</td>\n",
       "      <td>1.512216</td>\n",
       "      <td>1.056203</td>\n",
       "      <td>5705.79</td>\n",
       "    </tr>\n",
       "  </tbody>\n",
       "</table>\n",
       "</div>"
      ],
      "text/plain": [
       "             xco2  xinsunadd  xintemp1    xsthum  yield_output\n",
       "mysb2_1  0.285799   1.947975  1.512216  1.056203       5705.79"
      ]
     },
     "execution_count": 5,
     "metadata": {},
     "output_type": "execute_result"
    }
   ],
   "source": [
    "paprica"
   ]
  },
  {
   "cell_type": "markdown",
   "id": "1a75b9a9",
   "metadata": {},
   "source": [
    "# 데이터 전처리\n",
    "- 컬럼 명세\n",
    "    - yield_output : 각 농가별 생산량 정보 입력 (10a당 생산량)\n",
    "    - deviation : 작물별 생산량의 중앙값으로부터의 편차\n",
    "    \n",
    "- scaling\n",
    "    - RobustScaler를 이용하여 평균이 아닌 중앙값을 이용해 센터링함.\n",
    "<br>\n",
    "- 데이터 양이 적고, 생산량 격차가 크므로, 평균 대신 중앙값을 대표값으로 활용"
   ]
  },
  {
   "cell_type": "code",
   "execution_count": 6,
   "id": "3e765c9a",
   "metadata": {},
   "outputs": [],
   "source": [
    "def get_dev(df):\n",
    "    '''중앙값으로부터의 편차를 계산해 컬럼에 추가하는 함수'''\n",
    "    median_ = df['yield_output'].median()\n",
    "    df['deviation'] = df['yield_output'] - median_\n",
    "    return df\n",
    "\n",
    "tomato = get_dev(tomato)\n",
    "strawberry = get_dev(strawberry)\n",
    "paprica = get_dev(paprica)"
   ]
  },
  {
   "cell_type": "code",
   "execution_count": 7,
   "id": "b395b225",
   "metadata": {
    "scrolled": true
   },
   "outputs": [
    {
     "data": {
      "text/html": [
       "<div>\n",
       "<style scoped>\n",
       "    .dataframe tbody tr th:only-of-type {\n",
       "        vertical-align: middle;\n",
       "    }\n",
       "\n",
       "    .dataframe tbody tr th {\n",
       "        vertical-align: top;\n",
       "    }\n",
       "\n",
       "    .dataframe thead th {\n",
       "        text-align: right;\n",
       "    }\n",
       "</style>\n",
       "<table border=\"1\" class=\"dataframe\">\n",
       "  <thead>\n",
       "    <tr style=\"text-align: right;\">\n",
       "      <th></th>\n",
       "      <th>xco2</th>\n",
       "      <th>xinsunadd</th>\n",
       "      <th>xintemp1</th>\n",
       "      <th>xsthum</th>\n",
       "      <th>yield_output</th>\n",
       "      <th>deviation</th>\n",
       "    </tr>\n",
       "  </thead>\n",
       "  <tbody>\n",
       "    <tr>\n",
       "      <th>mysb4_1</th>\n",
       "      <td>1.568226</td>\n",
       "      <td>1.983854</td>\n",
       "      <td>0.331212</td>\n",
       "      <td>1.796899</td>\n",
       "      <td>649.31</td>\n",
       "      <td>-7420.13</td>\n",
       "    </tr>\n",
       "    <tr>\n",
       "      <th>mysb4_2</th>\n",
       "      <td>1.815418</td>\n",
       "      <td>2.229121</td>\n",
       "      <td>0.686742</td>\n",
       "      <td>1.891823</td>\n",
       "      <td>11725.00</td>\n",
       "      <td>3655.56</td>\n",
       "    </tr>\n",
       "    <tr>\n",
       "      <th>mysb4_3</th>\n",
       "      <td>0.919963</td>\n",
       "      <td>2.384450</td>\n",
       "      <td>0.353057</td>\n",
       "      <td>0.804560</td>\n",
       "      <td>8069.44</td>\n",
       "      <td>0.00</td>\n",
       "    </tr>\n",
       "    <tr>\n",
       "      <th>mysb2_2</th>\n",
       "      <td>0.231546</td>\n",
       "      <td>1.975161</td>\n",
       "      <td>0.717848</td>\n",
       "      <td>3.032744</td>\n",
       "      <td>12148.15</td>\n",
       "      <td>4078.71</td>\n",
       "    </tr>\n",
       "    <tr>\n",
       "      <th>mysb6_2</th>\n",
       "      <td>2.324790</td>\n",
       "      <td>1.861574</td>\n",
       "      <td>0.574999</td>\n",
       "      <td>1.989953</td>\n",
       "      <td>5439.81</td>\n",
       "      <td>-2629.63</td>\n",
       "    </tr>\n",
       "  </tbody>\n",
       "</table>\n",
       "</div>"
      ],
      "text/plain": [
       "             xco2  xinsunadd  xintemp1    xsthum  yield_output  deviation\n",
       "mysb4_1  1.568226   1.983854  0.331212  1.796899        649.31   -7420.13\n",
       "mysb4_2  1.815418   2.229121  0.686742  1.891823      11725.00    3655.56\n",
       "mysb4_3  0.919963   2.384450  0.353057  0.804560       8069.44       0.00\n",
       "mysb2_2  0.231546   1.975161  0.717848  3.032744      12148.15    4078.71\n",
       "mysb6_2  2.324790   1.861574  0.574999  1.989953       5439.81   -2629.63"
      ]
     },
     "execution_count": 7,
     "metadata": {},
     "output_type": "execute_result"
    }
   ],
   "source": [
    "tomato"
   ]
  },
  {
   "cell_type": "code",
   "execution_count": 8,
   "id": "e99fdde6",
   "metadata": {},
   "outputs": [],
   "source": [
    "from sklearn.preprocessing import RobustScaler\n",
    "tomato_scaler = RobustScaler()\n",
    "tomato['scaled'] = tomato_scaler.fit_transform(tomato[['deviation']])\n",
    "\n",
    "strawberry_scaler = RobustScaler()\n",
    "strawberry['scaled'] = strawberry_scaler.fit_transform(strawberry[['deviation']])\n",
    "\n",
    "paprica_scaler = RobustScaler()\n",
    "paprica['scaled'] = paprica_scaler.fit_transform(paprica[['deviation']])"
   ]
  },
  {
   "cell_type": "code",
   "execution_count": 23,
   "id": "de1bf223",
   "metadata": {
    "scrolled": true
   },
   "outputs": [
    {
     "data": {
      "text/plain": [
       "['paprica_scaler.joblib']"
      ]
     },
     "execution_count": 23,
     "metadata": {},
     "output_type": "execute_result"
    }
   ],
   "source": [
    "import joblib\n",
    "joblib.dump(tomato_scaler, 'tomato_scaler.joblib')\n",
    "joblib.dump(strawberry_scaler, 'strawberry_scaler.joblib')\n",
    "joblib.dump(paprica_scaler, 'paprica_scaler.joblib')"
   ]
  },
  {
   "cell_type": "markdown",
   "id": "c86c9338",
   "metadata": {},
   "source": [
    "## 인풋 데이터 형태\n",
    "- 인덱스 : 각 농가\n",
    "- 컬럼 : 이상치 탐지한 환경 데이터\n",
    "- 값 : 탐지된 이상치들의 총 합"
   ]
  },
  {
   "cell_type": "code",
   "execution_count": 9,
   "id": "9ac96383",
   "metadata": {
    "scrolled": true
   },
   "outputs": [
    {
     "data": {
      "text/html": [
       "<div>\n",
       "<style scoped>\n",
       "    .dataframe tbody tr th:only-of-type {\n",
       "        vertical-align: middle;\n",
       "    }\n",
       "\n",
       "    .dataframe tbody tr th {\n",
       "        vertical-align: top;\n",
       "    }\n",
       "\n",
       "    .dataframe thead th {\n",
       "        text-align: right;\n",
       "    }\n",
       "</style>\n",
       "<table border=\"1\" class=\"dataframe\">\n",
       "  <thead>\n",
       "    <tr style=\"text-align: right;\">\n",
       "      <th></th>\n",
       "      <th>xco2</th>\n",
       "      <th>xinsunadd</th>\n",
       "      <th>xintemp1</th>\n",
       "      <th>xsthum</th>\n",
       "      <th>yield_output</th>\n",
       "      <th>deviation</th>\n",
       "      <th>scaled</th>\n",
       "    </tr>\n",
       "  </thead>\n",
       "  <tbody>\n",
       "    <tr>\n",
       "      <th>mysb4_1</th>\n",
       "      <td>1.568226</td>\n",
       "      <td>1.983854</td>\n",
       "      <td>0.331212</td>\n",
       "      <td>1.796899</td>\n",
       "      <td>649.31</td>\n",
       "      <td>-7420.13</td>\n",
       "      <td>-1.180574</td>\n",
       "    </tr>\n",
       "    <tr>\n",
       "      <th>mysb4_2</th>\n",
       "      <td>1.815418</td>\n",
       "      <td>2.229121</td>\n",
       "      <td>0.686742</td>\n",
       "      <td>1.891823</td>\n",
       "      <td>11725.00</td>\n",
       "      <td>3655.56</td>\n",
       "      <td>0.581615</td>\n",
       "    </tr>\n",
       "    <tr>\n",
       "      <th>mysb4_3</th>\n",
       "      <td>0.919963</td>\n",
       "      <td>2.384450</td>\n",
       "      <td>0.353057</td>\n",
       "      <td>0.804560</td>\n",
       "      <td>8069.44</td>\n",
       "      <td>0.00</td>\n",
       "      <td>0.000000</td>\n",
       "    </tr>\n",
       "    <tr>\n",
       "      <th>mysb2_2</th>\n",
       "      <td>0.231546</td>\n",
       "      <td>1.975161</td>\n",
       "      <td>0.717848</td>\n",
       "      <td>3.032744</td>\n",
       "      <td>12148.15</td>\n",
       "      <td>4078.71</td>\n",
       "      <td>0.648940</td>\n",
       "    </tr>\n",
       "    <tr>\n",
       "      <th>mysb6_2</th>\n",
       "      <td>2.324790</td>\n",
       "      <td>1.861574</td>\n",
       "      <td>0.574999</td>\n",
       "      <td>1.989953</td>\n",
       "      <td>5439.81</td>\n",
       "      <td>-2629.63</td>\n",
       "      <td>-0.418385</td>\n",
       "    </tr>\n",
       "  </tbody>\n",
       "</table>\n",
       "</div>"
      ],
      "text/plain": [
       "             xco2  xinsunadd  xintemp1    xsthum  yield_output  deviation  \\\n",
       "mysb4_1  1.568226   1.983854  0.331212  1.796899        649.31   -7420.13   \n",
       "mysb4_2  1.815418   2.229121  0.686742  1.891823      11725.00    3655.56   \n",
       "mysb4_3  0.919963   2.384450  0.353057  0.804560       8069.44       0.00   \n",
       "mysb2_2  0.231546   1.975161  0.717848  3.032744      12148.15    4078.71   \n",
       "mysb6_2  2.324790   1.861574  0.574999  1.989953       5439.81   -2629.63   \n",
       "\n",
       "           scaled  \n",
       "mysb4_1 -1.180574  \n",
       "mysb4_2  0.581615  \n",
       "mysb4_3  0.000000  \n",
       "mysb2_2  0.648940  \n",
       "mysb6_2 -0.418385  "
      ]
     },
     "execution_count": 9,
     "metadata": {},
     "output_type": "execute_result"
    }
   ],
   "source": [
    "tomato"
   ]
  },
  {
   "cell_type": "code",
   "execution_count": 10,
   "id": "3679dc89",
   "metadata": {},
   "outputs": [
    {
     "data": {
      "text/html": [
       "<div>\n",
       "<style scoped>\n",
       "    .dataframe tbody tr th:only-of-type {\n",
       "        vertical-align: middle;\n",
       "    }\n",
       "\n",
       "    .dataframe tbody tr th {\n",
       "        vertical-align: top;\n",
       "    }\n",
       "\n",
       "    .dataframe thead th {\n",
       "        text-align: right;\n",
       "    }\n",
       "</style>\n",
       "<table border=\"1\" class=\"dataframe\">\n",
       "  <thead>\n",
       "    <tr style=\"text-align: right;\">\n",
       "      <th></th>\n",
       "      <th>xco2</th>\n",
       "      <th>xinsunadd</th>\n",
       "      <th>xintemp1</th>\n",
       "      <th>xsthum</th>\n",
       "      <th>yield_output</th>\n",
       "      <th>deviation</th>\n",
       "      <th>scaled</th>\n",
       "    </tr>\n",
       "  </thead>\n",
       "  <tbody>\n",
       "    <tr>\n",
       "      <th>mysb6_6</th>\n",
       "      <td>0.296633</td>\n",
       "      <td>3.128465</td>\n",
       "      <td>1.057159</td>\n",
       "      <td>1.392112</td>\n",
       "      <td>1759.67</td>\n",
       "      <td>290.095</td>\n",
       "      <td>0.616345</td>\n",
       "    </tr>\n",
       "    <tr>\n",
       "      <th>mysb6_1</th>\n",
       "      <td>0.000000</td>\n",
       "      <td>0.260533</td>\n",
       "      <td>1.217159</td>\n",
       "      <td>1.610267</td>\n",
       "      <td>1090.28</td>\n",
       "      <td>-379.295</td>\n",
       "      <td>-0.805862</td>\n",
       "    </tr>\n",
       "    <tr>\n",
       "      <th>mysb4_4</th>\n",
       "      <td>0.258910</td>\n",
       "      <td>1.731777</td>\n",
       "      <td>0.343589</td>\n",
       "      <td>0.785810</td>\n",
       "      <td>1671.79</td>\n",
       "      <td>202.215</td>\n",
       "      <td>0.429632</td>\n",
       "    </tr>\n",
       "    <tr>\n",
       "      <th>mysb6_5</th>\n",
       "      <td>0.033354</td>\n",
       "      <td>2.677468</td>\n",
       "      <td>0.810482</td>\n",
       "      <td>2.041166</td>\n",
       "      <td>1267.36</td>\n",
       "      <td>-202.215</td>\n",
       "      <td>-0.429632</td>\n",
       "    </tr>\n",
       "  </tbody>\n",
       "</table>\n",
       "</div>"
      ],
      "text/plain": [
       "             xco2  xinsunadd  xintemp1    xsthum  yield_output  deviation  \\\n",
       "mysb6_6  0.296633   3.128465  1.057159  1.392112       1759.67    290.095   \n",
       "mysb6_1  0.000000   0.260533  1.217159  1.610267       1090.28   -379.295   \n",
       "mysb4_4  0.258910   1.731777  0.343589  0.785810       1671.79    202.215   \n",
       "mysb6_5  0.033354   2.677468  0.810482  2.041166       1267.36   -202.215   \n",
       "\n",
       "           scaled  \n",
       "mysb6_6  0.616345  \n",
       "mysb6_1 -0.805862  \n",
       "mysb4_4  0.429632  \n",
       "mysb6_5 -0.429632  "
      ]
     },
     "execution_count": 10,
     "metadata": {},
     "output_type": "execute_result"
    }
   ],
   "source": [
    "strawberry"
   ]
  },
  {
   "cell_type": "code",
   "execution_count": 11,
   "id": "be9a3db6",
   "metadata": {},
   "outputs": [
    {
     "data": {
      "text/html": [
       "<div>\n",
       "<style scoped>\n",
       "    .dataframe tbody tr th:only-of-type {\n",
       "        vertical-align: middle;\n",
       "    }\n",
       "\n",
       "    .dataframe tbody tr th {\n",
       "        vertical-align: top;\n",
       "    }\n",
       "\n",
       "    .dataframe thead th {\n",
       "        text-align: right;\n",
       "    }\n",
       "</style>\n",
       "<table border=\"1\" class=\"dataframe\">\n",
       "  <thead>\n",
       "    <tr style=\"text-align: right;\">\n",
       "      <th></th>\n",
       "      <th>xco2</th>\n",
       "      <th>xinsunadd</th>\n",
       "      <th>xintemp1</th>\n",
       "      <th>xsthum</th>\n",
       "      <th>yield_output</th>\n",
       "      <th>deviation</th>\n",
       "      <th>scaled</th>\n",
       "    </tr>\n",
       "  </thead>\n",
       "  <tbody>\n",
       "    <tr>\n",
       "      <th>mysb2_1</th>\n",
       "      <td>0.285799</td>\n",
       "      <td>1.947975</td>\n",
       "      <td>1.512216</td>\n",
       "      <td>1.056203</td>\n",
       "      <td>5705.79</td>\n",
       "      <td>0.0</td>\n",
       "      <td>0.0</td>\n",
       "    </tr>\n",
       "  </tbody>\n",
       "</table>\n",
       "</div>"
      ],
      "text/plain": [
       "             xco2  xinsunadd  xintemp1    xsthum  yield_output  deviation  \\\n",
       "mysb2_1  0.285799   1.947975  1.512216  1.056203       5705.79        0.0   \n",
       "\n",
       "         scaled  \n",
       "mysb2_1     0.0  "
      ]
     },
     "execution_count": 11,
     "metadata": {},
     "output_type": "execute_result"
    }
   ],
   "source": [
    "paprica"
   ]
  },
  {
   "cell_type": "markdown",
   "id": "a136d33f",
   "metadata": {},
   "source": [
    "# 모델학습\n",
    "- Feature : 'xco2'이상치 총합, 'xinsunadd' 이상치 총합, 'xintemp1' 이상치 총합, 'xsthum' 이상치 총합 \n",
    "- Target : median으로부터의 편차를 스케일링한 값\n",
    "\n",
    "- Ridge 선형회귀 모델을 사용하여 가중치에 규제를 줌으로써, 적은 데이터 셋에도 출력값이 튀지 않도록 설정.\n",
    "    - 추후 데이터 양이 매우 많아지면 다른 모델 적용을 검토"
   ]
  },
  {
   "cell_type": "code",
   "execution_count": 12,
   "id": "cb189b06",
   "metadata": {},
   "outputs": [],
   "source": [
    "FEATURE = ['xco2', 'xinsunadd', 'xintemp1', 'xsthum']\n",
    "TARGET = 'scaled'"
   ]
  },
  {
   "cell_type": "code",
   "execution_count": 13,
   "id": "b0b11605",
   "metadata": {},
   "outputs": [],
   "source": [
    "from sklearn.linear_model import Ridge\n",
    "\n",
    "def train_ridge(df):\n",
    "    '''Ridge 선형회귀 모델로 학습'''\n",
    "    x = df[FEATURE]\n",
    "    y = df[TARGET]\n",
    "    \n",
    "    ridge = Ridge(alpha=2)\n",
    "    ridge.fit(x, y)\n",
    "    \n",
    "    return ridge"
   ]
  },
  {
   "cell_type": "code",
   "execution_count": 14,
   "id": "9f07e4b2",
   "metadata": {},
   "outputs": [],
   "source": [
    "model_tomato = train_ridge(tomato.drop('mysb4_1', axis=0))\n",
    "model_strawberry = train_ridge(strawberry)\n",
    "model_paprica = train_ridge(paprica)"
   ]
  },
  {
   "cell_type": "code",
   "execution_count": null,
   "id": "021b95cf",
   "metadata": {},
   "outputs": [],
   "source": []
  }
 ],
 "metadata": {
  "kernelspec": {
   "display_name": "Python 3 (ipykernel)",
   "language": "python",
   "name": "python3"
  },
  "language_info": {
   "codemirror_mode": {
    "name": "ipython",
    "version": 3
   },
   "file_extension": ".py",
   "mimetype": "text/x-python",
   "name": "python",
   "nbconvert_exporter": "python",
   "pygments_lexer": "ipython3",
   "version": "3.9.15"
  }
 },
 "nbformat": 4,
 "nbformat_minor": 5
}
